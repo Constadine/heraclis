{
 "cells": [
  {
   "cell_type": "code",
   "execution_count": 1,
   "id": "02f2da17",
   "metadata": {},
   "outputs": [],
   "source": [
    "from database import WorkoutDB"
   ]
  },
  {
   "cell_type": "code",
   "execution_count": 2,
   "id": "0f3b4b03",
   "metadata": {},
   "outputs": [],
   "source": [
    "db = WorkoutDB()"
   ]
  },
  {
   "cell_type": "code",
   "execution_count": 3,
   "id": "75125fc1",
   "metadata": {},
   "outputs": [
    {
     "data": {
      "text/plain": [
       "[{'id': 7,\n",
       "  'name': 'Crunches',\n",
       "  'description': 'Core strength exercise',\n",
       "  'tags': [{'name': 'Core', 'color': '#2ecc71'}]},\n",
       " {'id': 4,\n",
       "  'name': 'Dead Bugs',\n",
       "  'description': 'Core strength exercise',\n",
       "  'tags': [{'name': 'Core', 'color': '#2ecc71'}]},\n",
       " {'id': 5,\n",
       "  'name': 'Glute Bridges',\n",
       "  'description': 'Lower body strength exercise',\n",
       "  'tags': [{'name': 'Glutes', 'color': '#1abc9c'},\n",
       "   {'name': 'Hamstrings', 'color': '#16a085'}]},\n",
       " {'id': 6,\n",
       "  'name': 'Lunges',\n",
       "  'description': 'Lower body strength exercise',\n",
       "  'tags': [{'name': 'Glutes', 'color': '#1abc9c'},\n",
       "   {'name': 'Quads', 'color': '#34495e'}]},\n",
       " {'id': 3,\n",
       "  'name': 'Planks',\n",
       "  'description': 'Core strength exercise',\n",
       "  'tags': [{'name': 'Core', 'color': '#2ecc71'}]},\n",
       " {'id': 1,\n",
       "  'name': 'Pushups',\n",
       "  'description': 'Upper body strength exercise',\n",
       "  'tags': [{'name': 'Chest', 'color': '#e74c3c'},\n",
       "   {'name': 'Front Delts', 'color': '#f39c12'},\n",
       "   {'name': 'Triceps', 'color': '#9b59b6'}]},\n",
       " {'id': 2,\n",
       "  'name': 'Squats',\n",
       "  'description': 'Lower body strength exercise',\n",
       "  'tags': [{'name': 'Glutes', 'color': '#1abc9c'},\n",
       "   {'name': 'Quads', 'color': '#34495e'}]}]"
      ]
     },
     "execution_count": 3,
     "metadata": {},
     "output_type": "execute_result"
    }
   ],
   "source": [
    "db.get_exercises()"
   ]
  },
  {
   "cell_type": "code",
   "execution_count": 4,
   "id": "57d16d84",
   "metadata": {},
   "outputs": [
    {
     "data": {
      "text/plain": [
       "True"
      ]
     },
     "execution_count": 4,
     "metadata": {},
     "output_type": "execute_result"
    }
   ],
   "source": [
    "db.add_workout(\"Pushups\", 20)\n",
    "db.add_workout(\"Squats\", 10)\n",
    "db.add_workout(\"Dead Bugs\", 10)\n"
   ]
  },
  {
   "cell_type": "code",
   "execution_count": 5,
   "id": "698b0023",
   "metadata": {},
   "outputs": [
    {
     "data": {
      "text/plain": [
       "True"
      ]
     },
     "execution_count": 5,
     "metadata": {},
     "output_type": "execute_result"
    }
   ],
   "source": [
    "db.add_workout(\"Pushups\", 20)"
   ]
  },
  {
   "cell_type": "code",
   "execution_count": 6,
   "id": "6530873a",
   "metadata": {},
   "outputs": [
    {
     "data": {
      "text/plain": [
       "{'today_reps': 420,\n",
       " 'week_reps': 420,\n",
       " 'total_days': 1,\n",
       " 'first_day': '2025-09-21 14:18:53',\n",
       " 'top_exercises': [{'name': 'Pushups', 'total_reps': 280, 'sets': 14},\n",
       "  {'name': 'Squats', 'total_reps': 70, 'sets': 7},\n",
       "  {'name': 'Dead Bugs', 'total_reps': 70, 'sets': 7}],\n",
       " 'total_reps_per_exercise': [{'exercise_name': 'Pushups', 'total_reps': 280},\n",
       "  {'exercise_name': 'Squats', 'total_reps': 70},\n",
       "  {'exercise_name': 'Dead Bugs', 'total_reps': 70}]}"
      ]
     },
     "execution_count": 6,
     "metadata": {},
     "output_type": "execute_result"
    }
   ],
   "source": [
    "db.get_stats()"
   ]
  },
  {
   "cell_type": "code",
   "execution_count": null,
   "id": "40bc7b38",
   "metadata": {},
   "outputs": [],
   "source": []
  }
 ],
 "metadata": {
  "kernelspec": {
   "display_name": "venv",
   "language": "python",
   "name": "python3"
  },
  "language_info": {
   "codemirror_mode": {
    "name": "ipython",
    "version": 3
   },
   "file_extension": ".py",
   "mimetype": "text/x-python",
   "name": "python",
   "nbconvert_exporter": "python",
   "pygments_lexer": "ipython3",
   "version": "3.13.7"
  }
 },
 "nbformat": 4,
 "nbformat_minor": 5
}
